{
  "nbformat": 4,
  "nbformat_minor": 0,
  "metadata": {
    "colab": {
      "provenance": [],
      "authorship_tag": "ABX9TyPv49NCx/HmNOfNIUr1xAFJ",
      "include_colab_link": true
    },
    "kernelspec": {
      "name": "python3",
      "display_name": "Python 3"
    },
    "language_info": {
      "name": "python"
    }
  },
  "cells": [
    {
      "cell_type": "markdown",
      "metadata": {
        "id": "view-in-github",
        "colab_type": "text"
      },
      "source": [
        "<a href=\"https://colab.research.google.com/github/Atharv24-Atreus/Predictive-Analytics-Lab-/blob/main/Lab1.ipynb\" target=\"_parent\"><img src=\"https://colab.research.google.com/assets/colab-badge.svg\" alt=\"Open In Colab\"/></a>"
      ]
    },
    {
      "cell_type": "code",
      "execution_count": 1,
      "metadata": {
        "colab": {
          "base_uri": "https://localhost:8080/"
        },
        "id": "jVwU7qhPqkBw",
        "outputId": "197e5410-246e-4d4e-e312-6b4ef93d7aae"
      },
      "outputs": [
        {
          "output_type": "stream",
          "name": "stdout",
          "text": [
            "Enter the first number:5\n",
            "Enter the second number:5\n",
            "Addition: 10.0\n",
            "Subtraction: 0.0\n",
            "Division: 1.0\n",
            "Modulus: 0.0\n",
            "Multiplication: 25.0\n"
          ]
        }
      ],
      "source": [
        "# question 1\n",
        "a=float(input(\"Enter the first number:\"))\n",
        "b=float(input(\"Enter the second number:\"))\n",
        "\n",
        "add=a+b\n",
        "sub=a-b\n",
        "div=a/b if b!=0 else \"undefined\"\n",
        "mod=a%b if b!=0 else \"undefined\"\n",
        "mul=a*b\n",
        "\n",
        "print(\"Addition:\",add)\n",
        "print(\"Subtraction:\",sub)\n",
        "print(\"Division:\",div)\n",
        "print(\"Modulus:\",mod)\n",
        "print(\"Multiplication:\",mul)"
      ]
    },
    {
      "cell_type": "code",
      "source": [
        "# question 2\n",
        "integer_var = 200\n",
        "float_var = 78.7\n",
        "string_varl = \"UPES\"\n",
        "string_var2 = \"Computer Science\"\n",
        "boolean_varl = True\n",
        "boolean_var2 = False\n",
        "\n",
        "addition = integer_var + float_var\n",
        "subtraction = integer_var - float_var\n",
        "multiplication = integer_var * float_var\n",
        "division = integer_var / float_var\n",
        "\n",
        "concatenated_string= string_varl +\" \" + string_var2\n",
        "\n",
        "and_operation = boolean_varl and boolean_var2\n",
        "or_operation = boolean_varl or boolean_var2\n",
        "not_operation = not boolean_varl\n",
        "\n",
        "print(\"Arithmetic Operations on Numeric Data Types:1\")\n",
        "print(f\"Addition:{integer_var} +{float_var} = {addition}\")\n",
        "print(f\"Subtraction: {integer_var} - {float_var} = {subtraction }\")\n",
        "print(f\"Multiplication: {integer_var} * {float_var} = {multiplication}\")\n",
        "print(f\"Division: {integer_var} / {float_var} = {division}\")\n",
        "\n",
        "print(\"\\nString Concatenation:2\")\n",
        "print(f\"Concatenated String: {string_varl} {string_var2}\")\n",
        "\n",
        "print(\"\\nLogical Operations on Boolean Data Types:\")\n",
        "print(f\"AND Operation:{boolean_var1} and {boolean_var2} = {and_operation}\")\n",
        "print(f\"OR Operation: {boolean_var1} or {boolean_var2} = {or_operation}\")\n",
        "print(f\"NOT Operation: not {boolean_var1} = {not_operation}\")\n"
      ],
      "metadata": {
        "colab": {
          "base_uri": "https://localhost:8080/"
        },
        "id": "N7-2a-uarSdB",
        "outputId": "46205f27-7458-4577-c583-3c2be3a9f777"
      },
      "execution_count": 10,
      "outputs": [
        {
          "output_type": "stream",
          "name": "stdout",
          "text": [
            "Arithmetic Operations on Numeric Data Types:1\n",
            "Addition:200 +78.7 = 278.7\n",
            "Subtraction: 200 - 78.7 = 121.3\n",
            "Multiplication: 200 * 78.7 = 15740.0\n",
            "Division: 200 / 78.7 = 2.5412960609911055\n",
            "\n",
            "String Concatenation:2\n",
            "Concatenated String: UPES Computer Science\n",
            "\n",
            "Logical Operations on Boolean Data Types:\n",
            "AND Operation:True and False = False\n",
            "OR Operation: True or False = True\n",
            "NOT Operation: not True = False\n"
          ]
        }
      ]
    },
    {
      "cell_type": "code",
      "source": [
        "# In[3]:\n",
        "\n",
        "\n",
        "# question 3\n",
        "\n",
        "from datetime import datetime\n",
        "name=input(\"Enter your name\")\n",
        "print(f\"Hello, {name}!\")\n",
        "\n",
        "birth_year = int(input(\"Enter your birth year: \"))\n",
        "current_year = datetime.now().year\n",
        "age = current_year - birth_year\n",
        "\n",
        "print(f\"{name} is {age} years old.\")\n"
      ],
      "metadata": {
        "colab": {
          "base_uri": "https://localhost:8080/"
        },
        "id": "1cskGGkXtswX",
        "outputId": "8807f9e4-b5b9-4400-8a2c-828557ac9689"
      },
      "execution_count": 14,
      "outputs": [
        {
          "output_type": "stream",
          "name": "stdout",
          "text": [
            "Enter your nameAtharv\n",
            "Hello, Atharv!\n",
            "Enter your birth year: 2003\n",
            "Atharv is 21 years old.\n"
          ]
        }
      ]
    },
    {
      "cell_type": "code",
      "source": [
        "# In[4]:\n",
        "\n",
        "\n",
        "# question 4\n",
        "\n",
        "number = int(input(\"Enter a number: \"))\n",
        "\n",
        "if number % 2 == 0:\n",
        "    print(f\"The number {number} is even.\")\n",
        "else:\n",
        "    print(f\"The number {number} is odd.\")\n"
      ],
      "metadata": {
        "colab": {
          "base_uri": "https://localhost:8080/"
        },
        "id": "oTYIFARCvK94",
        "outputId": "82c53c62-770c-416f-be4b-bf03121ff1ed"
      },
      "execution_count": 15,
      "outputs": [
        {
          "output_type": "stream",
          "name": "stdout",
          "text": [
            "Enter a number: 21\n",
            "The number 21 is odd.\n"
          ]
        }
      ]
    },
    {
      "cell_type": "code",
      "source": [
        "# question 5\n",
        "\n",
        "# Using a for loop to print numbers from 1 to 10\n",
        "print(\"Using for loop:\")\n",
        "for i in range(1, 11):\n",
        "    print(i)\n",
        "\n",
        "# Using a while loop with a counter variable to print numbers from 1 to 10\n",
        "print(\"\\nUsing while loop:\")\n",
        "counter = 1\n",
        "while counter <= 10:\n",
        "    print(counter)\n",
        "    counter += 1"
      ],
      "metadata": {
        "colab": {
          "base_uri": "https://localhost:8080/"
        },
        "id": "V9FkqabUvLaJ",
        "outputId": "d6de1415-4d4b-452f-c82d-f07520fcbf59"
      },
      "execution_count": 16,
      "outputs": [
        {
          "output_type": "stream",
          "name": "stdout",
          "text": [
            "Using for loop:\n",
            "1\n",
            "2\n",
            "3\n",
            "4\n",
            "5\n",
            "6\n",
            "7\n",
            "8\n",
            "9\n",
            "10\n",
            "\n",
            "Using while loop:\n",
            "1\n",
            "2\n",
            "3\n",
            "4\n",
            "5\n",
            "6\n",
            "7\n",
            "8\n",
            "9\n",
            "10\n"
          ]
        }
      ]
    },
    {
      "cell_type": "code",
      "source": [
        "# question 6\n",
        "\n",
        "# Create a list of fruits\n",
        "fruits = [\"Apple\", \"Banana\", \"Cherry\", \"Date\", \"Elderberry\"]\n",
        "\n",
        "# Access elements using indexing\n",
        "print(\"Accessing elements using indexing:\")\n",
        "print(f\"First fruit: {fruits[0]}\")\n",
        "print(f\"Last fruit: {fruits[-1]}\")\n",
        "\n",
        "# Modify elements in the list\n",
        "fruits[1] = \"Blueberry\"\n",
        "print(\"\\nAfter modifying the second element:\")\n",
        "print(fruits)\n",
        "\n",
        "# Add elements to the list\n",
        "fruits.append(\"Fig\")\n",
        "print(\"\\nAfter adding an element:\")\n",
        "print(fruits)\n",
        "\n",
        "# Remove elements from the list\n",
        "fruits.remove(\"Date\")\n",
        "print(\"\\nAfter removing an element:\")\n",
        "print(fruits)\n",
        "\n",
        "# Find the length of the list\n",
        "length = len(fruits)\n",
        "print(f\"\\nLength of the list: {length}\")\n",
        "\n",
        "# Sort the list in ascending order\n",
        "fruits.sort()\n",
        "print(\"\\nList sorted in ascending order:\")\n",
        "print(fruits)\n",
        "\n",
        "# Sort the list in descending order\n",
        "fruits.sort(reverse=True)\n",
        "print(\"\\nList sorted in descending order:\")\n",
        "print(fruits)\n"
      ],
      "metadata": {
        "colab": {
          "base_uri": "https://localhost:8080/"
        },
        "id": "-4qHpTD-vbwv",
        "outputId": "b470a94b-f673-4612-c2a8-69738bfa7208"
      },
      "execution_count": 17,
      "outputs": [
        {
          "output_type": "stream",
          "name": "stdout",
          "text": [
            "Accessing elements using indexing:\n",
            "First fruit: Apple\n",
            "Last fruit: Elderberry\n",
            "\n",
            "After modifying the second element:\n",
            "['Apple', 'Blueberry', 'Cherry', 'Date', 'Elderberry']\n",
            "\n",
            "After adding an element:\n",
            "['Apple', 'Blueberry', 'Cherry', 'Date', 'Elderberry', 'Fig']\n",
            "\n",
            "After removing an element:\n",
            "['Apple', 'Blueberry', 'Cherry', 'Elderberry', 'Fig']\n",
            "\n",
            "Length of the list: 5\n",
            "\n",
            "List sorted in ascending order:\n",
            "['Apple', 'Blueberry', 'Cherry', 'Elderberry', 'Fig']\n",
            "\n",
            "List sorted in descending order:\n",
            "['Fig', 'Elderberry', 'Cherry', 'Blueberry', 'Apple']\n"
          ]
        }
      ]
    },
    {
      "cell_type": "code",
      "source": [
        "# question 7\n",
        "\n",
        "# Create a string variable\n",
        "my_string = \"Hello, World! Welcome to Python programming.\"\n",
        "\n",
        "# Find the length of the string\n",
        "length = len(my_string)\n",
        "print(f\"Length of the string: {length}\")\n",
        "\n",
        "# Convert the string to uppercase\n",
        "uppercase_string = my_string.upper()\n",
        "print(f\"String in uppercase: {uppercase_string}\")\n",
        "\n",
        "# Convert the string to lowercase\n",
        "lowercase_string = my_string.lower()\n",
        "print(f\"String in lowercase: {lowercase_string}\")\n",
        "\n",
        "# Check if a substring exists in the string\n",
        "substring = \"Python\"\n",
        "if substring in my_string:\n",
        "    print(f\"The substring '{substring}' exists in the string.\")\n",
        "else:\n",
        "    print(f\"The substring '{substring}' does not exist in the string.\")\n",
        "\n",
        "# Split the string into a list of words\n",
        "words_list = my_string.split()\n",
        "print(f\"List of words: {words_list}\")\n",
        "\n"
      ],
      "metadata": {
        "colab": {
          "base_uri": "https://localhost:8080/"
        },
        "id": "pOk9HmR8vkgC",
        "outputId": "7066561f-a0b0-4c74-fdb8-8bcba64aa37c"
      },
      "execution_count": 18,
      "outputs": [
        {
          "output_type": "stream",
          "name": "stdout",
          "text": [
            "Length of the string: 44\n",
            "String in uppercase: HELLO, WORLD! WELCOME TO PYTHON PROGRAMMING.\n",
            "String in lowercase: hello, world! welcome to python programming.\n",
            "The substring 'Python' exists in the string.\n",
            "List of words: ['Hello,', 'World!', 'Welcome', 'to', 'Python', 'programming.']\n"
          ]
        }
      ]
    },
    {
      "cell_type": "code",
      "source": [
        "# question 8\n",
        "\n",
        "# Create a list of numbers\n",
        "numbers = [25, 68, 12, 89, 45, 37, 77, 54]\n",
        "\n",
        "# Find the largest number in the list\n",
        "largest = max(numbers)\n",
        "\n",
        "# Find the smallest number in the list\n",
        "smallest = min(numbers)\n",
        "\n",
        "# Print the results\n",
        "print(f\"The largest number in the list is: {largest}\")\n",
        "print(f\"The smallest number in the list is: {smallest}\")\n",
        "\n"
      ],
      "metadata": {
        "colab": {
          "base_uri": "https://localhost:8080/"
        },
        "id": "xgYjDMecvngP",
        "outputId": "921a313e-f64b-4c06-c06b-ddf6a73b21c3"
      },
      "execution_count": 19,
      "outputs": [
        {
          "output_type": "stream",
          "name": "stdout",
          "text": [
            "The largest number in the list is: 89\n",
            "The smallest number in the list is: 12\n"
          ]
        }
      ]
    },
    {
      "cell_type": "code",
      "source": [],
      "metadata": {
        "id": "aO1fHOJavqxs"
      },
      "execution_count": null,
      "outputs": []
    }
  ]
}