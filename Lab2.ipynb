{
  "cells": [
    {
      "cell_type": "markdown",
      "metadata": {
        "id": "view-in-github",
        "colab_type": "text"
      },
      "source": [
        "<a href=\"https://colab.research.google.com/github/Atharv24-Atreus/Predictive-Analytics-Lab-/blob/main/Lab2.ipynb\" target=\"_parent\"><img src=\"https://colab.research.google.com/assets/colab-badge.svg\" alt=\"Open In Colab\"/></a>"
      ]
    },
    {
      "cell_type": "code",
      "execution_count": null,
      "metadata": {
        "colab": {
          "base_uri": "https://localhost:8080/"
        },
        "id": "CQxPg097Shwm",
        "outputId": "2cf1a9c1-967a-4445-dcbe-a52619521d49"
      },
      "outputs": [
        {
          "name": "stdout",
          "output_type": "stream",
          "text": [
            "Accessing elements using indexing:\n",
            "First color: Red\n",
            "Last color: Green \n",
            "\n",
            "Attempt to modify an element :\n",
            "Error:'tuple' object does not support item assignment\n",
            "\n",
            "Number of occurrences of 'Blue': 2\n"
          ]
        }
      ],
      "source": [
        "# question 1\n",
        "# Create a tuple Of colors\n",
        "colors = (\"Red\", \"Blue\",\" Green\"\"Yellow\" ,\"Blue\" ,\"Green \" )\n",
        "# Access elements using indexing\n",
        "print(\"Accessing elements using indexing:\")\n",
        "print(f\"First color: {colors[0]}\" )\n",
        "print(f\"Last color: {colors[-1]}\")\n",
        "# Try to modify an element in the tuple (this MiLL raise an error)\n",
        "try :\n",
        "        colors [1]=\"Purple\"\n",
        "except TypeError as e:\n",
        "        print(\"\\nAttempt to modify an element :\")\n",
        "        print(f\"Error:{e}\")\n",
        "# Find the number of occurrences of a specific element in the tuple\n",
        "color_to_count = \"Blue\"\n",
        "occurrences = colors. count(color_to_count)\n",
        "print(f\"\\nNumber of occurrences of '{color_to_count}': {occurrences}\")\n"
      ]
    },
    {
      "cell_type": "code",
      "execution_count": null,
      "metadata": {
        "colab": {
          "base_uri": "https://localhost:8080/"
        },
        "id": "FwJdy3cLTZHH",
        "outputId": "9d84a0c9-ca7c-434f-c8f8-131e038df491"
      },
      "outputs": [
        {
          "name": "stdout",
          "output_type": "stream",
          "text": [
            "Accessing values using keys:\n",
            "Name: Atharv\n",
            "Age: 21\n",
            "City: GGN\n",
            "City key does not exist in the dictionary. \n",
            "Keys ['name', 'age', 'occupation']\n",
            "values ['Atharv', 21, 'Engineer']\n"
          ]
        }
      ],
      "source": [
        "# create a dictionary\n",
        "person = {\n",
        "    \"name\": \"Atharv\",\n",
        "    \"age\":21,\n",
        "    \"city\": \"GGN\"\n",
        "}\n",
        "# Access values using keys\n",
        "name =person[\"name\"]\n",
        "age =person[\"age\"]\n",
        "city =person[\"city\"]\n",
        "print(\"Accessing values using keys:\")\n",
        "print(f\"Name: {name}\" )\n",
        "print(f\"Age: {age}\" )\n",
        "print(f\"City: {city}\" )\n",
        "# Add a new key-value pair\n",
        "person[\"occupation\"] = \"Engineer\"\n",
        "# Mbdify an existing value\n",
        "person[\"age\"] = 21\n",
        "# Remove a key-value pair\n",
        "del person[\"city\"]\n",
        "# Check if a key exists in the dictionary\n",
        "if \"city\" in person:\n",
        " print(\"city key exist in the disctionary\")\n",
        "else:\n",
        " print(\"City key does not exist in the dictionary. \")\n",
        "# Get a Cist of all keys and values\n",
        "keys = person.keys()\n",
        "values = person.values()\n",
        "print( \"Keys\",list(keys))\n",
        "print(\"values\",list(values))"
      ]
    },
    {
      "cell_type": "code",
      "execution_count": null,
      "metadata": {
        "colab": {
          "base_uri": "https://localhost:8080/"
        },
        "id": "lXWYyeMKW6iR",
        "outputId": "8a988815-8060-44c3-bc1e-a5b545193ecf"
      },
      "outputs": [
        {
          "name": "stdout",
          "output_type": "stream",
          "text": [
            "orginal list: [10, 20, 30]\n",
            "modified list: [10, 99, 30]\n",
            "\n",
            "Original tuple: (10, 20, 30)\n",
            "Error: 'tuple' object does not support item assignment\n"
          ]
        }
      ],
      "source": [
        "#question 3\n",
        "# Create a list (mutable data type)\n",
        "my_list = [10,20,30]\n",
        "# Create a tuple (imwutable dota type)\n",
        "my_tuple =(10, 20, 30)\n",
        "# Try to modify an element in the I\n",
        "print(\"orginal list:\",my_list)\n",
        "my_list[1]=99\n",
        "print(\"modified list:\",my_list)\n",
        "\n",
        "# Trey to modify an element in the tuple (this wilt raise an error)\n",
        "print(\"\\nOriginal tuple:\",my_tuple)\n",
        "try:\n",
        "  my_tuple[1]=99\n",
        "except TypeError as e:\n",
        "  print(f\"Error: {e}\")"
      ]
    },
    {
      "cell_type": "code",
      "execution_count": null,
      "metadata": {
        "colab": {
          "base_uri": "https://localhost:8080/"
        },
        "id": "emB4O9_wXsKG",
        "outputId": "a392cea2-c774-4a23-9c7b-05ea20b75d3d"
      },
      "outputs": [
        {
          "name": "stdout",
          "output_type": "stream",
          "text": [
            "Enter a number:10\n",
            "Multiplication table for 10:\n",
            "10*1 = 10\n",
            "10*2 = 20\n",
            "10*3 = 30\n",
            "10*4 = 40\n",
            "10*5 = 50\n",
            "10*6 = 60\n",
            "10*7 = 70\n",
            "10*8 = 80\n",
            "10*9 = 90\n",
            "10*10 = 100\n"
          ]
        }
      ],
      "source": [
        "# question 4\n",
        "# Take a number as input from the user\n",
        "number = int( input (\"Enter a number:\"))\n",
        "# Use a for Loop iterate from I to IO\n",
        "print(f\"Multiplication table for {number}:\")\n",
        "for i in range(1, 11):\n",
        "  # Calculate the product of the input number and the current item\n",
        "  product = number * i\n",
        "  # Print the multiplication table\n",
        "  print(f\"{number}*{i} = {product}\")"
      ]
    },
    {
      "cell_type": "code",
      "execution_count": null,
      "metadata": {
        "colab": {
          "base_uri": "https://localhost:8080/"
        },
        "id": "eyPXIKnfYDiv",
        "outputId": "0730db0b-8112-499a-e813-ce9343e3fce5"
      },
      "outputs": [
        {
          "name": "stdout",
          "output_type": "stream",
          "text": [
            "Enter a number to find its factorxal:8\n",
            " The factorial of 8 is: 40320\n"
          ]
        }
      ],
      "source": [
        "# question 5\n",
        "# Function to calculate the factorial of a number\n",
        "def factorial (n) :\n",
        "  if n < 0:\n",
        "    return \"Factorial is not defined for negative numbers. \"\n",
        "  elif n==0 or n==1:\n",
        "      return 1\n",
        "  else:\n",
        "    result = 1\n",
        "    for i in range(2, n + 1):\n",
        "      result*=i\n",
        "    return result\n",
        "# Take a number as input from the user\n",
        "number = int(input(\"Enter a number to find its factorxal:\"))\n",
        "# Calculate the factorial and print the result\n",
        "fact = factorial (number)\n",
        "print (f\" The factorial of {number} is: {fact}\" )"
      ]
    },
    {
      "cell_type": "code",
      "execution_count": null,
      "metadata": {
        "colab": {
          "base_uri": "https://localhost:8080/"
        },
        "id": "IupKW6WyY5AX",
        "outputId": "48079cc9-f89d-4e95-e1e0-7681ca86eb7e"
      },
      "outputs": [
        {
          "name": "stdout",
          "output_type": "stream",
          "text": [
            " Enter a number to check if it is prime 45\n",
            "45 is not a prime number.\n"
          ]
        }
      ],
      "source": [
        "# question 6\n",
        "def is_prime(n):\n",
        "  if n<=1:\n",
        "    return False\n",
        "  elif n==2:\n",
        "    return True\n",
        "  else:\n",
        "    for i in range(2, int(n**0.5)+1):\n",
        "      if n%i==0:\n",
        "        return False\n",
        "    return True\n",
        "number = int(input(\" Enter a number to check if it is prime \"))\n",
        "if is_prime(number):\n",
        "  print(f\"{number} is a prime number.\")\n",
        "else:\n",
        "  print(f\"{number} is not a prime number.\")\n"
      ]
    },
    {
      "cell_type": "code",
      "execution_count": null,
      "metadata": {
        "colab": {
          "base_uri": "https://localhost:8080/"
        },
        "id": "ADsJlVqMaIoH",
        "outputId": "8b49e426-c03c-4d6c-d8b6-c7ea858fdbfe"
      },
      "outputs": [
        {
          "name": "stdout",
          "output_type": "stream",
          "text": [
            "The sum of all even numbers between 1 and 100 is:2550\n"
          ]
        }
      ],
      "source": [
        "sum_even = 0\n",
        "for number in range(1, 101):\n",
        "  if number % 2 == 0:\n",
        "    sum_even += number\n",
        "\n",
        "print(f\"The sum of all even numbers between 1 and 100 is:{sum_even}\" )"
      ]
    },
    {
      "cell_type": "code",
      "execution_count": null,
      "metadata": {
        "colab": {
          "background_save": true,
          "base_uri": "https://localhost:8080/"
        },
        "id": "Zu387FhUaXse",
        "outputId": "6f27e676-9fcf-4ec7-907f-f3a9c42d7d46"
      },
      "outputs": [
        {
          "name": "stdout",
          "output_type": "stream",
          "text": [
            "\n",
            "Options:\n",
            "1.Enter 'add' for addition\n",
            "2.nter 'subtract' for subtraction\n",
            "3.Enter 'multiply' for multiplication\n",
            "4.Enter 'divide' for division\n",
            "5.Enter 'quit' to end the program\n",
            "Result: 10.0\n",
            "\n",
            "Options:\n",
            "1.Enter 'add' for addition\n",
            "2.nter 'subtract' for subtraction\n",
            "3.Enter 'multiply' for multiplication\n",
            "4.Enter 'divide' for division\n",
            "5.Enter 'quit' to end the program\n"
          ]
        }
      ],
      "source": [
        "def calculator():\n",
        "  while True:\n",
        "    print(\"\\nOptions:\")\n",
        "    print(\"1.Enter 'add' for addition\")\n",
        "    print(\"2.nter 'subtract' for subtraction\")\n",
        "    print(\"3.Enter 'multiply' for multiplication\")\n",
        "    print(\"4.Enter 'divide' for division\")\n",
        "    print(\"5.Enter 'quit' to end the program\")\n",
        "\n",
        "    choice = input(\"Enter your choice: \")\n",
        "\n",
        "    if choice == '5':\n",
        "      break\n",
        "    if choice in ('1','2','3','4'):\n",
        "      num1 = float(input(\"Enter first number: \"))\n",
        "      num2 = float(input(\"Enter second number: \"))\n",
        "\n",
        "      if choice == '1':\n",
        "        result = num1 + num2\n",
        "        print(\"Result:\", result)\n",
        "      elif choice == '2':\n",
        "        result = num1 - num2\n",
        "        print(\"Result:\", result)\n",
        "      elif choice == '3':\n",
        "        result = num1 * num2\n",
        "        print(\"Result:\", result)\n",
        "      elif choice == '4':\n",
        "        if num2 != 0:\n",
        "          result = num1 / num2\n",
        "          print(\"Result:\", result)\n",
        "        else:\n",
        "            print(\"Error: Division by zero is not allowed.\")\n",
        "    else:\n",
        "      print(\"Invalid choice. Please select a valid option.\")\n",
        "\n",
        "calculator()\n",
        "\n"
      ]
    },
    {
      "cell_type": "code",
      "execution_count": null,
      "metadata": {
        "id": "h-2gEWxybWRA"
      },
      "outputs": [],
      "source": []
    }
  ],
  "metadata": {
    "colab": {
      "provenance": [],
      "authorship_tag": "ABX9TyMxZ2SVK+1x1DRllR8j4Doj",
      "include_colab_link": true
    },
    "kernelspec": {
      "display_name": "Python 3",
      "name": "python3"
    },
    "language_info": {
      "name": "python"
    }
  },
  "nbformat": 4,
  "nbformat_minor": 0
}