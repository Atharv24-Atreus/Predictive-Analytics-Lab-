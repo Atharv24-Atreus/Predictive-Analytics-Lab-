{
  "nbformat": 4,
  "nbformat_minor": 0,
  "metadata": {
    "colab": {
      "provenance": [],
      "authorship_tag": "ABX9TyPu7UFVi8cQ43UNUEUZY88K",
      "include_colab_link": true
    },
    "kernelspec": {
      "name": "python3",
      "display_name": "Python 3"
    },
    "language_info": {
      "name": "python"
    }
  },
  "cells": [
    {
      "cell_type": "markdown",
      "metadata": {
        "id": "view-in-github",
        "colab_type": "text"
      },
      "source": [
        "<a href=\"https://colab.research.google.com/github/Atharv24-Atreus/Predictive-Analytics-Lab-/blob/main/lab3.ipynb\" target=\"_parent\"><img src=\"https://colab.research.google.com/assets/colab-badge.svg\" alt=\"Open In Colab\"/></a>"
      ]
    },
    {
      "cell_type": "code",
      "execution_count": null,
      "metadata": {
        "colab": {
          "base_uri": "https://localhost:8080/"
        },
        "id": "n6Z27ix2QiXx",
        "outputId": "ad3901a6-2527-4be6-f031-cb223fc41b76"
      },
      "outputs": [
        {
          "output_type": "stream",
          "name": "stdout",
          "text": [
            "Array 1D: [10 20 30 40 50]\n",
            "Array 2D: [[ 0  1  2  3]\n",
            " [ 4  5  6  7]\n",
            " [ 8  9 10 11]]\n",
            "Array 3D: [[[ 1.          1.39130435  1.7826087   2.17391304]\n",
            "  [ 2.56521739  2.95652174  3.34782609  3.73913043]\n",
            "  [ 4.13043478  4.52173913  4.91304348  5.30434783]]\n",
            "\n",
            " [[ 5.69565217  6.08695652  6.47826087  6.86956522]\n",
            "  [ 7.26086957  7.65217391  8.04347826  8.43478261]\n",
            "  [ 8.82608696  9.2173913   9.60869565 10.        ]]]\n",
            "Indexing 1D: 30\n",
            "Indexing 2D: 6\n",
            "Slice 1D: [20 30 40]\n",
            "Slice 2D: [[ 1  2]\n",
            " [ 5  6]\n",
            " [ 9 10]]\n",
            "Reshaped 2D: [[ 0  1  2]\n",
            " [ 3  4  5]\n",
            " [ 6  7  8]\n",
            " [ 9 10 11]]\n",
            "Resized 1D: [[10 20]\n",
            " [30 40]\n",
            " [50 10]]\n",
            "Flattened 3D: [ 1.          1.39130435  1.7826087   2.17391304  2.56521739  2.95652174\n",
            "  3.34782609  3.73913043  4.13043478  4.52173913  4.91304348  5.30434783\n",
            "  5.69565217  6.08695652  6.47826087  6.86956522  7.26086957  7.65217391\n",
            "  8.04347826  8.43478261  8.82608696  9.2173913   9.60869565 10.        ]\n",
            "Concatenated 1D: [10 20 30 40 50 60 70]\n",
            "Shape of 1D array: (5,)\n",
            "Size of 2D array: 12\n",
            "Dtype of 3D array: float64\n",
            "Ndim of 2D array: 2\n"
          ]
        }
      ],
      "source": [
        "import numpy as np\n",
        "\n",
        "# Array creation using various methods\n",
        "# 1D Array using np.array\n",
        "array_1d = np.array([10, 20, 30, 40, 50])\n",
        "\n",
        "# 2D Array using np.arange and reshaping\n",
        "array_2d = np.arange(12).reshape(3, 4)\n",
        "\n",
        "# 3D Array using np.linspace and reshaping\n",
        "array_3d = np.linspace(1, 10, 24).reshape(2, 3, 4)\n",
        "\n",
        "# Basic Operations: Indexing, Slicing, Reshaping, Concatenation\n",
        "# Indexing\n",
        "indexing_1d = array_1d[2]      # Element at index 2\n",
        "indexing_2d = array_2d[1, 2]   # Element at row 1, column 2\n",
        "\n",
        "# Slicing\n",
        "slice_1d = array_1d[1:4]         # Slicing 1D array\n",
        "slice_2d = array_2d[:, 1:3]      # Slicing columns 1 to 2 across all rows\n",
        "\n",
        "# Reshaping arrays\n",
        "reshaped_2d = array_2d.reshape(4, 3)  # Reshaping from 3x4 to 4x3\n",
        "\n",
        "# Resizing arrays\n",
        "resized_1d = np.resize(array_1d, (3, 2))  # Resize 1D array to 3x2\n",
        "\n",
        "# Flattening arrays\n",
        "flattened_3d = array_3d.flatten()\n",
        "\n",
        "# Concatenating arrays\n",
        "concat_1d = np.concatenate([array_1d, np.array([60, 70])])\n",
        "\n",
        "# Investigating array attributes\n",
        "shape_1d = array_1d.shape\n",
        "size_2d = array_2d.size\n",
        "dtype_3d = array_3d.dtype\n",
        "ndim_2d = array_2d.ndim\n",
        "\n",
        "# Print results\n",
        "print(\"Array 1D:\", array_1d)\n",
        "print(\"Array 2D:\", array_2d)\n",
        "print(\"Array 3D:\", array_3d)\n",
        "print(\"Indexing 1D:\", indexing_1d)\n",
        "print(\"Indexing 2D:\", indexing_2d)\n",
        "print(\"Slice 1D:\", slice_1d)\n",
        "print(\"Slice 2D:\", slice_2d)\n",
        "print(\"Reshaped 2D:\", reshaped_2d)\n",
        "print(\"Resized 1D:\", resized_1d)\n",
        "print(\"Flattened 3D:\", flattened_3d)\n",
        "print(\"Concatenated 1D:\", concat_1d)\n",
        "print(\"Shape of 1D array:\", shape_1d)\n",
        "print(\"Size of 2D array:\", size_2d)\n",
        "print(\"Dtype of 3D array:\", dtype_3d)\n",
        "print(\"Ndim of 2D array:\", ndim_2d)\n"
      ]
    },
    {
      "cell_type": "code",
      "source": [
        "import pandas as pd\n",
        "import numpy as np\n",
        "\n",
        "# Load the CSV file into a DataFrame\n",
        "df = pd.read_csv('Book1.csv')\n",
        "\n",
        "# Define the function to calculate probability\n",
        "def prob(age_col, age_value, buy_col, buy_value):\n",
        "    # Initialize the probability counter\n",
        "    count = 0\n",
        "    total = len(age_col)\n",
        "\n",
        "    # Iterate through age and buy columns simultaneously\n",
        "    for age, buy in zip(age_col, buy_col):\n",
        "        if age == age_value and buy == buy_value:\n",
        "            count += 1\n",
        "\n",
        "    # Return the probability (count of matching / total)\n",
        "    return count / total if total > 0 else 0\n",
        "\n",
        "# Access the columns from the DataFrame\n",
        "age = df['age']\n",
        "income = df['income']\n",
        "student = df['student']\n",
        "credit_rating = df['credit rating']\n",
        "buys_computer = df['Class: buys computer']\n",
        "\n",
        "# Calculate probability of 'yes' and 'no' in the buys_computer column\n",
        "prob_yes = buys_computer.value_counts().get('yes', 0) / len(buys_computer)\n",
        "prob_no = buys_computer.value_counts().get('no', 0) / len(buys_computer)\n",
        "\n",
        "# Calculate the probability of youth and yes for buying a computer\n",
        "youth_yes_prob = prob(age, 'youth', buys_computer, 'yes')\n",
        "\n",
        "# Print the results\n",
        "print(f\"Probability of 'youth' and 'yes': {youth_yes_prob}\")\n",
        "print(f\"Probability of 'yes': {prob_yes}\")\n",
        "print(f\"Probability of 'no': {prob_no}\")\n"
      ],
      "metadata": {
        "colab": {
          "base_uri": "https://localhost:8080/"
        },
        "id": "hlpMC0lOR2Ll",
        "outputId": "35318c25-f70b-4f95-c44b-1ed95ab50ac7"
      },
      "execution_count": null,
      "outputs": [
        {
          "output_type": "stream",
          "name": "stdout",
          "text": [
            "Probability of 'youth' and 'yes': 0.14285714285714285\n",
            "Probability of 'yes': 0.6428571428571429\n",
            "Probability of 'no': 0.35714285714285715\n"
          ]
        }
      ]
    },
    {
      "cell_type": "code",
      "source": [],
      "metadata": {
        "id": "zAneqQRcSOzb"
      },
      "execution_count": null,
      "outputs": []
    }
  ]
}